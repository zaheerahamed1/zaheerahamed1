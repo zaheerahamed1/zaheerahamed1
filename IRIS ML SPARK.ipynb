{
 "cells": [
  {
   "cell_type": "code",
   "execution_count": 1,
   "metadata": {},
   "outputs": [],
   "source": [
    "import pyspark\n",
    "\n",
    "from pyspark.sql import SparkSession\n",
    "from pyspark.sql.functions import *\n",
    "from pyspark.sql.types import *"
   ]
  },
  {
   "cell_type": "code",
   "execution_count": 2,
   "metadata": {},
   "outputs": [
    {
     "data": {
      "text/html": [
       "\n",
       "            <div>\n",
       "                <p><b>SparkSession - in-memory</b></p>\n",
       "                \n",
       "        <div>\n",
       "            <p><b>SparkContext</b></p>\n",
       "\n",
       "            <p><a href=\"http://ip-10-1-1-204.ap-south-1.compute.internal:43005\">Spark UI</a></p>\n",
       "\n",
       "            <dl>\n",
       "              <dt>Version</dt>\n",
       "                <dd><code>v2.4.0</code></dd>\n",
       "              <dt>Master</dt>\n",
       "                <dd><code>local[2]</code></dd>\n",
       "              <dt>AppName</dt>\n",
       "                <dd><code>Sunny</code></dd>\n",
       "            </dl>\n",
       "        </div>\n",
       "        \n",
       "            </div>\n",
       "        "
      ],
      "text/plain": [
       "<pyspark.sql.session.SparkSession at 0x7fd4a0718750>"
      ]
     },
     "execution_count": 2,
     "metadata": {},
     "output_type": "execute_result"
    }
   ],
   "source": [
    "spark = SparkSession.builder.master('local[2]').appName('Sunny').getOrCreate()\n",
    "spark"
   ]
  },
  {
   "cell_type": "code",
   "execution_count": 4,
   "metadata": {},
   "outputs": [],
   "source": [
    "data = spark.read.csv('iris.csv', header = True, inferSchema = True)"
   ]
  },
  {
   "cell_type": "code",
   "execution_count": 5,
   "metadata": {},
   "outputs": [
    {
     "name": "stdout",
     "output_type": "stream",
     "text": [
      "+-------------+------------+-------------+------------+-------+\n",
      "|SepalLengthCm|SepalWidthCm|PetalLengthCm|PetalWidthCm|Species|\n",
      "+-------------+------------+-------------+------------+-------+\n",
      "|          5.1|         3.5|          1.4|         0.2| setosa|\n",
      "|          4.9|         3.0|          1.4|         0.2| setosa|\n",
      "|          4.7|         3.2|          1.3|         0.2| setosa|\n",
      "|          4.6|         3.1|          1.5|         0.2| setosa|\n",
      "|          5.0|         3.6|          1.4|         0.2| setosa|\n",
      "|          5.4|         3.9|          1.7|         0.4| setosa|\n",
      "|          4.6|         3.4|          1.4|         0.3| setosa|\n",
      "|          5.0|         3.4|          1.5|         0.2| setosa|\n",
      "|          4.4|         2.9|          1.4|         0.2| setosa|\n",
      "|          4.9|         3.1|          1.5|         0.1| setosa|\n",
      "|          5.4|         3.7|          1.5|         0.2| setosa|\n",
      "|          4.8|         3.4|          1.6|         0.2| setosa|\n",
      "|          4.8|         3.0|          1.4|         0.1| setosa|\n",
      "|          4.3|         3.0|          1.1|         0.1| setosa|\n",
      "|          5.8|         4.0|          1.2|         0.2| setosa|\n",
      "|          5.7|         4.4|          1.5|         0.4| setosa|\n",
      "|          5.4|         3.9|          1.3|         0.4| setosa|\n",
      "|          5.1|         3.5|          1.4|         0.3| setosa|\n",
      "|          5.7|         3.8|          1.7|         0.3| setosa|\n",
      "|          5.1|         3.8|          1.5|         0.3| setosa|\n",
      "+-------------+------------+-------------+------------+-------+\n",
      "only showing top 20 rows\n",
      "\n"
     ]
    }
   ],
   "source": [
    "data.show()"
   ]
  },
  {
   "cell_type": "code",
   "execution_count": 6,
   "metadata": {},
   "outputs": [],
   "source": [
    "pd_df = data.toPandas()"
   ]
  },
  {
   "cell_type": "code",
   "execution_count": 7,
   "metadata": {},
   "outputs": [
    {
     "data": {
      "text/html": [
       "<div>\n",
       "<style scoped>\n",
       "    .dataframe tbody tr th:only-of-type {\n",
       "        vertical-align: middle;\n",
       "    }\n",
       "\n",
       "    .dataframe tbody tr th {\n",
       "        vertical-align: top;\n",
       "    }\n",
       "\n",
       "    .dataframe thead th {\n",
       "        text-align: right;\n",
       "    }\n",
       "</style>\n",
       "<table border=\"1\" class=\"dataframe\">\n",
       "  <thead>\n",
       "    <tr style=\"text-align: right;\">\n",
       "      <th></th>\n",
       "      <th>SepalLengthCm</th>\n",
       "      <th>SepalWidthCm</th>\n",
       "      <th>PetalLengthCm</th>\n",
       "      <th>PetalWidthCm</th>\n",
       "      <th>Species</th>\n",
       "    </tr>\n",
       "  </thead>\n",
       "  <tbody>\n",
       "    <tr>\n",
       "      <th>0</th>\n",
       "      <td>5.1</td>\n",
       "      <td>3.5</td>\n",
       "      <td>1.4</td>\n",
       "      <td>0.2</td>\n",
       "      <td>setosa</td>\n",
       "    </tr>\n",
       "    <tr>\n",
       "      <th>1</th>\n",
       "      <td>4.9</td>\n",
       "      <td>3.0</td>\n",
       "      <td>1.4</td>\n",
       "      <td>0.2</td>\n",
       "      <td>setosa</td>\n",
       "    </tr>\n",
       "    <tr>\n",
       "      <th>2</th>\n",
       "      <td>4.7</td>\n",
       "      <td>3.2</td>\n",
       "      <td>1.3</td>\n",
       "      <td>0.2</td>\n",
       "      <td>setosa</td>\n",
       "    </tr>\n",
       "    <tr>\n",
       "      <th>3</th>\n",
       "      <td>4.6</td>\n",
       "      <td>3.1</td>\n",
       "      <td>1.5</td>\n",
       "      <td>0.2</td>\n",
       "      <td>setosa</td>\n",
       "    </tr>\n",
       "    <tr>\n",
       "      <th>4</th>\n",
       "      <td>5.0</td>\n",
       "      <td>3.6</td>\n",
       "      <td>1.4</td>\n",
       "      <td>0.2</td>\n",
       "      <td>setosa</td>\n",
       "    </tr>\n",
       "  </tbody>\n",
       "</table>\n",
       "</div>"
      ],
      "text/plain": [
       "   SepalLengthCm  SepalWidthCm  PetalLengthCm  PetalWidthCm Species\n",
       "0            5.1           3.5            1.4           0.2  setosa\n",
       "1            4.9           3.0            1.4           0.2  setosa\n",
       "2            4.7           3.2            1.3           0.2  setosa\n",
       "3            4.6           3.1            1.5           0.2  setosa\n",
       "4            5.0           3.6            1.4           0.2  setosa"
      ]
     },
     "execution_count": 7,
     "metadata": {},
     "output_type": "execute_result"
    }
   ],
   "source": [
    "pd_df.head()"
   ]
  },
  {
   "cell_type": "code",
   "execution_count": 8,
   "metadata": {},
   "outputs": [
    {
     "data": {
      "text/plain": [
       "(150, 5)"
      ]
     },
     "execution_count": 8,
     "metadata": {},
     "output_type": "execute_result"
    }
   ],
   "source": [
    "pd_df.shape"
   ]
  },
  {
   "cell_type": "code",
   "execution_count": 9,
   "metadata": {},
   "outputs": [
    {
     "data": {
      "text/plain": [
       "Index(['SepalLengthCm', 'SepalWidthCm', 'PetalLengthCm', 'PetalWidthCm',\n",
       "       'Species'],\n",
       "      dtype='object')"
      ]
     },
     "execution_count": 9,
     "metadata": {},
     "output_type": "execute_result"
    }
   ],
   "source": [
    "pd_df.columns"
   ]
  },
  {
   "cell_type": "code",
   "execution_count": 10,
   "metadata": {},
   "outputs": [
    {
     "data": {
      "text/plain": [
       "SepalLengthCm    0\n",
       "SepalWidthCm     0\n",
       "PetalLengthCm    0\n",
       "PetalWidthCm     0\n",
       "Species          0\n",
       "dtype: int64"
      ]
     },
     "execution_count": 10,
     "metadata": {},
     "output_type": "execute_result"
    }
   ],
   "source": [
    "pd_df.isnull().sum()"
   ]
  },
  {
   "cell_type": "code",
   "execution_count": 12,
   "metadata": {},
   "outputs": [
    {
     "data": {
      "text/plain": [
       "virginica     50\n",
       "setosa        50\n",
       "versicolor    50\n",
       "Name: Species, dtype: int64"
      ]
     },
     "execution_count": 12,
     "metadata": {},
     "output_type": "execute_result"
    }
   ],
   "source": [
    "pd_df['Species'].value_counts()"
   ]
  },
  {
   "cell_type": "code",
   "execution_count": 13,
   "metadata": {},
   "outputs": [
    {
     "data": {
      "text/plain": [
       "array(['setosa', 'versicolor', 'virginica'], dtype=object)"
      ]
     },
     "execution_count": 13,
     "metadata": {},
     "output_type": "execute_result"
    }
   ],
   "source": [
    "pd_df['Species'].unique()"
   ]
  },
  {
   "cell_type": "code",
   "execution_count": 15,
   "metadata": {},
   "outputs": [],
   "source": [
    "import pandas as pd\n",
    "import numpy as np\n",
    "import matplotlib.pyplot as plt\n",
    "import seaborn as sns\n",
    "plt.rcParams['figure.figsize'] = (14,8)"
   ]
  },
  {
   "cell_type": "code",
   "execution_count": 16,
   "metadata": {},
   "outputs": [
    {
     "data": {
      "text/plain": [
       "<matplotlib.axes._subplots.AxesSubplot at 0x7fd488240190>"
      ]
     },
     "execution_count": 16,
     "metadata": {},
     "output_type": "execute_result"
    },
    {
     "data": {
      "image/png": "[encoded data removed]",
      "text/plain": [
       "<Figure size 1008x576 with 1 Axes>"
      ]
     },
     "metadata": {
      "needs_background": "light"
     },
     "output_type": "display_data"
    }
   ],
   "source": [
    "sns.countplot(pd_df['Species'])"
   ]
  },
  {
   "cell_type": "code",
   "execution_count": 17,
   "metadata": {},
   "outputs": [
    {
     "name": "stdout",
     "output_type": "stream",
     "text": [
      "<class 'pandas.core.frame.DataFrame'>\n",
      "RangeIndex: 150 entries, 0 to 149\n",
      "Data columns (total 5 columns):\n",
      " #   Column         Non-Null Count  Dtype  \n",
      "---  ------         --------------  -----  \n",
      " 0   SepalLengthCm  150 non-null    float64\n",
      " 1   SepalWidthCm   150 non-null    float64\n",
      " 2   PetalLengthCm  150 non-null    float64\n",
      " 3   PetalWidthCm   150 non-null    float64\n",
      " 4   Species        150 non-null    object \n",
      "dtypes: float64(4), object(1)\n",
      "memory usage: 6.0+ KB\n"
     ]
    }
   ],
   "source": [
    "pd_df.info()"
   ]
  },
  {
   "cell_type": "code",
   "execution_count": 18,
   "metadata": {},
   "outputs": [
    {
     "data": {
      "text/plain": [
       "<matplotlib.axes._subplots.AxesSubplot at 0x7fd481208f50>"
      ]
     },
     "execution_count": 18,
     "metadata": {},
     "output_type": "execute_result"
    },
    {
     "data": {
      "image/png": "[encoded data removed]",
      "text/plain": [
       "<Figure size 1008x576 with 1 Axes>"
      ]
     },
     "metadata": {
      "needs_background": "light"
     },
     "output_type": "display_data"
    }
   ],
   "source": [
    "sns.distplot(pd_df['SepalLengthCm'])"
   ]
  },
  {
   "cell_type": "code",
   "execution_count": 19,
   "metadata": {},
   "outputs": [
    {
     "data": {
      "text/plain": [
       "<matplotlib.axes._subplots.AxesSubplot at 0x7fd481163390>"
      ]
     },
     "execution_count": 19,
     "metadata": {},
     "output_type": "execute_result"
    },
    {
     "data": {
      "image/png": "[encoded data removed]",
      "text/plain": [
       "<Figure size 1008x576 with 1 Axes>"
      ]
     },
     "metadata": {
      "needs_background": "light"
     },
     "output_type": "display_data"
    }
   ],
   "source": [
    "sns.distplot(pd_df['SepalWidthCm'])"
   ]
  },
  {
   "cell_type": "code",
   "execution_count": 20,
   "metadata": {},
   "outputs": [
    {
     "data": {
      "text/plain": [
       "<matplotlib.axes._subplots.AxesSubplot at 0x7fd4810f8390>"
      ]
     },
     "execution_count": 20,
     "metadata": {},
     "output_type": "execute_result"
    },
    {
     "data": {
      "image/png": "[encoded data removed]",
      "text/plain": [
       "<Figure size 1008x576 with 1 Axes>"
      ]
     },
     "metadata": {
      "needs_background": "light"
     },
     "output_type": "display_data"
    }
   ],
   "source": [
    "sns.distplot(pd_df['PetalLengthCm'])"
   ]
  },
  {
   "cell_type": "code",
   "execution_count": 21,
   "metadata": {},
   "outputs": [
    {
     "data": {
      "text/plain": [
       "<matplotlib.axes._subplots.AxesSubplot at 0x7fd481063a90>"
      ]
     },
     "execution_count": 21,
     "metadata": {},
     "output_type": "execute_result"
    },
    {
     "data": {
      "image/png": "[encoded data removed]",
      "text/plain": [
       "<Figure size 1008x576 with 1 Axes>"
      ]
     },
     "metadata": {
      "needs_background": "light"
     },
     "output_type": "display_data"
    }
   ],
   "source": [
    "sns.distplot(pd_df['PetalWidthCm'])"
   ]
  },
  {
   "cell_type": "code",
   "execution_count": 22,
   "metadata": {},
   "outputs": [
    {
     "data": {
      "text/html": [
       "<div>\n",
       "<style scoped>\n",
       "    .dataframe tbody tr th:only-of-type {\n",
       "        vertical-align: middle;\n",
       "    }\n",
       "\n",
       "    .dataframe tbody tr th {\n",
       "        vertical-align: top;\n",
       "    }\n",
       "\n",
       "    .dataframe thead th {\n",
       "        text-align: right;\n",
       "    }\n",
       "</style>\n",
       "<table border=\"1\" class=\"dataframe\">\n",
       "  <thead>\n",
       "    <tr style=\"text-align: right;\">\n",
       "      <th></th>\n",
       "      <th>count</th>\n",
       "      <th>mean</th>\n",
       "      <th>std</th>\n",
       "      <th>min</th>\n",
       "      <th>25%</th>\n",
       "      <th>50%</th>\n",
       "      <th>75%</th>\n",
       "      <th>max</th>\n",
       "    </tr>\n",
       "  </thead>\n",
       "  <tbody>\n",
       "    <tr>\n",
       "      <th>SepalLengthCm</th>\n",
       "      <td>150.0</td>\n",
       "      <td>5.843333</td>\n",
       "      <td>0.828066</td>\n",
       "      <td>4.3</td>\n",
       "      <td>5.1</td>\n",
       "      <td>5.80</td>\n",
       "      <td>6.4</td>\n",
       "      <td>7.9</td>\n",
       "    </tr>\n",
       "    <tr>\n",
       "      <th>SepalWidthCm</th>\n",
       "      <td>150.0</td>\n",
       "      <td>3.057333</td>\n",
       "      <td>0.435866</td>\n",
       "      <td>2.0</td>\n",
       "      <td>2.8</td>\n",
       "      <td>3.00</td>\n",
       "      <td>3.3</td>\n",
       "      <td>4.4</td>\n",
       "    </tr>\n",
       "    <tr>\n",
       "      <th>PetalLengthCm</th>\n",
       "      <td>150.0</td>\n",
       "      <td>3.758000</td>\n",
       "      <td>1.765298</td>\n",
       "      <td>1.0</td>\n",
       "      <td>1.6</td>\n",
       "      <td>4.35</td>\n",
       "      <td>5.1</td>\n",
       "      <td>6.9</td>\n",
       "    </tr>\n",
       "    <tr>\n",
       "      <th>PetalWidthCm</th>\n",
       "      <td>150.0</td>\n",
       "      <td>1.199333</td>\n",
       "      <td>0.762238</td>\n",
       "      <td>0.1</td>\n",
       "      <td>0.3</td>\n",
       "      <td>1.30</td>\n",
       "      <td>1.8</td>\n",
       "      <td>2.5</td>\n",
       "    </tr>\n",
       "  </tbody>\n",
       "</table>\n",
       "</div>"
      ],
      "text/plain": [
       "               count      mean       std  min  25%   50%  75%  max\n",
       "SepalLengthCm  150.0  5.843333  0.828066  4.3  5.1  5.80  6.4  7.9\n",
       "SepalWidthCm   150.0  3.057333  0.435866  2.0  2.8  3.00  3.3  4.4\n",
       "PetalLengthCm  150.0  3.758000  1.765298  1.0  1.6  4.35  5.1  6.9\n",
       "PetalWidthCm   150.0  1.199333  0.762238  0.1  0.3  1.30  1.8  2.5"
      ]
     },
     "execution_count": 22,
     "metadata": {},
     "output_type": "execute_result"
    }
   ],
   "source": [
    "pd_df.describe().T"
   ]
  },
  {
   "cell_type": "code",
   "execution_count": 27,
   "metadata": {},
   "outputs": [],
   "source": [
    "\n",
    "from pyspark.ml.feature import VectorAssembler"
   ]
  },
  {
   "cell_type": "code",
   "execution_count": 25,
   "metadata": {},
   "outputs": [
    {
     "name": "stdout",
     "output_type": "stream",
     "text": [
      "+-------------+------------+-------------+------------+-------+----------+\n",
      "|SepalLengthCm|SepalWidthCm|PetalLengthCm|PetalWidthCm|Species|labelIndex|\n",
      "+-------------+------------+-------------+------------+-------+----------+\n",
      "|          5.1|         3.5|          1.4|         0.2| setosa|       2.0|\n",
      "|          4.9|         3.0|          1.4|         0.2| setosa|       2.0|\n",
      "|          4.7|         3.2|          1.3|         0.2| setosa|       2.0|\n",
      "|          4.6|         3.1|          1.5|         0.2| setosa|       2.0|\n",
      "|          5.0|         3.6|          1.4|         0.2| setosa|       2.0|\n",
      "|          5.4|         3.9|          1.7|         0.4| setosa|       2.0|\n",
      "|          4.6|         3.4|          1.4|         0.3| setosa|       2.0|\n",
      "|          5.0|         3.4|          1.5|         0.2| setosa|       2.0|\n",
      "|          4.4|         2.9|          1.4|         0.2| setosa|       2.0|\n",
      "|          4.9|         3.1|          1.5|         0.1| setosa|       2.0|\n",
      "|          5.4|         3.7|          1.5|         0.2| setosa|       2.0|\n",
      "|          4.8|         3.4|          1.6|         0.2| setosa|       2.0|\n",
      "|          4.8|         3.0|          1.4|         0.1| setosa|       2.0|\n",
      "|          4.3|         3.0|          1.1|         0.1| setosa|       2.0|\n",
      "|          5.8|         4.0|          1.2|         0.2| setosa|       2.0|\n",
      "|          5.7|         4.4|          1.5|         0.4| setosa|       2.0|\n",
      "|          5.4|         3.9|          1.3|         0.4| setosa|       2.0|\n",
      "|          5.1|         3.5|          1.4|         0.3| setosa|       2.0|\n",
      "|          5.7|         3.8|          1.7|         0.3| setosa|       2.0|\n",
      "|          5.1|         3.8|          1.5|         0.3| setosa|       2.0|\n",
      "+-------------+------------+-------------+------------+-------+----------+\n",
      "only showing top 20 rows\n",
      "\n"
     ]
    }
   ],
   "source": [
    "\n",
    "from pyspark.ml.feature import StringIndexer\n",
    "\n",
    "label_stringIdx = StringIndexer(inputCol = 'Species', outputCol = 'labelIndex')\n",
    "data = label_stringIdx.fit(data).transform(data)\n",
    "data.show()"
   ]
  },
  {
   "cell_type": "code",
   "execution_count": 36,
   "metadata": {},
   "outputs": [],
   "source": [
    "VA_vect = VectorAssembler(inputCols = ['SepalLengthCm','SepalWidthCm','PetalLengthCm','PetalWidthCm'], outputCol = 'features')\n",
    "\n",
    "\n",
    "data = VA_vect.transform(data)"
   ]
  },
  {
   "cell_type": "code",
   "execution_count": 38,
   "metadata": {},
   "outputs": [
    {
     "name": "stdout",
     "output_type": "stream",
     "text": [
      "dim of data DF : (150, 8)\n",
      "dim of Train DF : (121, 8)\n",
      "dim of Test DF : (29, 8)\n"
     ]
    }
   ],
   "source": [
    "train,test = data.randomSplit([0.8,0.2], seed = 13)\n",
    "\n",
    "\n",
    "print(\"dim of data DF :\",(data.count(),len(data.columns)))\n",
    "\n",
    "print(\"dim of Train DF :\",(train.count(),len(train.columns)))\n",
    "\n",
    "print(\"dim of Test DF :\",(test.count(),len(test.columns)))"
   ]
  },
  {
   "cell_type": "code",
   "execution_count": 37,
   "metadata": {},
   "outputs": [],
   "source": [
    "from pyspark.ml.classification import RandomForestClassifier"
   ]
  },
  {
   "cell_type": "code",
   "execution_count": 39,
   "metadata": {},
   "outputs": [],
   "source": [
    "rfc = RandomForestClassifier(featuresCol = 'features',labelCol = 'labelIndex')\n",
    "\n",
    "rfc_model = rfc.fit(train)"
   ]
  },
  {
   "cell_type": "code",
   "execution_count": 41,
   "metadata": {},
   "outputs": [],
   "source": [
    "pred_train_rfc = rfc_model.transform(train)"
   ]
  },
  {
   "cell_type": "code",
   "execution_count": 42,
   "metadata": {},
   "outputs": [],
   "source": [
    "pred_test_rfc = rfc_model.transform(test)"
   ]
  },
  {
   "cell_type": "code",
   "execution_count": 44,
   "metadata": {},
   "outputs": [
    {
     "name": "stdout",
     "output_type": "stream",
     "text": [
      "+-----------------+----------+----------+\n",
      "|         features|labelIndex|prediction|\n",
      "+-----------------+----------+----------+\n",
      "|[4.3,3.0,1.1,0.1]|       2.0|       2.0|\n",
      "|[4.4,3.0,1.3,0.2]|       2.0|       2.0|\n",
      "|[4.4,3.2,1.3,0.2]|       2.0|       2.0|\n",
      "|[4.6,3.1,1.5,0.2]|       2.0|       2.0|\n",
      "|[4.6,3.2,1.4,0.2]|       2.0|       2.0|\n",
      "|[4.6,3.4,1.4,0.3]|       2.0|       2.0|\n",
      "|[4.6,3.6,1.0,0.2]|       2.0|       2.0|\n",
      "|[4.7,3.2,1.3,0.2]|       2.0|       2.0|\n",
      "|[4.7,3.2,1.6,0.2]|       2.0|       2.0|\n",
      "|[4.8,3.0,1.4,0.1]|       2.0|       2.0|\n",
      "|[4.8,3.0,1.4,0.3]|       2.0|       2.0|\n",
      "|[4.8,3.1,1.6,0.2]|       2.0|       2.0|\n",
      "|[4.8,3.4,1.6,0.2]|       2.0|       2.0|\n",
      "|[4.8,3.4,1.9,0.2]|       2.0|       2.0|\n",
      "|[4.9,2.4,3.3,1.0]|       0.0|       0.0|\n",
      "|[4.9,3.0,1.4,0.2]|       2.0|       2.0|\n",
      "|[4.9,3.1,1.5,0.1]|       2.0|       2.0|\n",
      "|[4.9,3.1,1.5,0.2]|       2.0|       2.0|\n",
      "|[4.9,3.6,1.4,0.1]|       2.0|       2.0|\n",
      "|[5.0,2.0,3.5,1.0]|       0.0|       0.0|\n",
      "+-----------------+----------+----------+\n",
      "only showing top 20 rows\n",
      "\n"
     ]
    }
   ],
   "source": [
    "pred_train_rfc.select('features','labelIndex','prediction').show()"
   ]
  },
  {
   "cell_type": "code",
   "execution_count": 45,
   "metadata": {},
   "outputs": [
    {
     "name": "stdout",
     "output_type": "stream",
     "text": [
      "+-----------------+----------+----------+\n",
      "|         features|labelIndex|prediction|\n",
      "+-----------------+----------+----------+\n",
      "|[4.4,2.9,1.4,0.2]|       2.0|       2.0|\n",
      "|[4.5,2.3,1.3,0.3]|       2.0|       2.0|\n",
      "|[4.9,2.5,4.5,1.7]|       1.0|       0.0|\n",
      "|[5.0,3.0,1.6,0.2]|       2.0|       2.0|\n",
      "|[5.0,3.5,1.6,0.6]|       2.0|       2.0|\n",
      "|[5.1,2.5,3.0,1.1]|       0.0|       0.0|\n",
      "|[5.3,3.7,1.5,0.2]|       2.0|       2.0|\n",
      "|[5.6,2.7,4.2,1.3]|       0.0|       0.0|\n",
      "|[5.8,2.7,4.1,1.0]|       0.0|       0.0|\n",
      "|[5.8,2.7,5.1,1.9]|       1.0|       1.0|\n",
      "|[5.8,2.8,5.1,2.4]|       1.0|       1.0|\n",
      "|[5.8,4.0,1.2,0.2]|       2.0|       2.0|\n",
      "|[6.1,2.8,4.7,1.2]|       0.0|       0.0|\n",
      "|[6.1,3.0,4.9,1.8]|       1.0|       1.0|\n",
      "|[6.2,2.2,4.5,1.5]|       0.0|       0.0|\n",
      "|[6.3,2.3,4.4,1.3]|       0.0|       0.0|\n",
      "|[6.3,2.5,4.9,1.5]|       0.0|       1.0|\n",
      "|[6.3,3.3,6.0,2.5]|       1.0|       1.0|\n",
      "|[6.4,2.7,5.3,1.9]|       1.0|       1.0|\n",
      "|[6.4,3.2,5.3,2.3]|       1.0|       1.0|\n",
      "+-----------------+----------+----------+\n",
      "only showing top 20 rows\n",
      "\n"
     ]
    }
   ],
   "source": [
    "pred_test_rfc.select('features','labelIndex','prediction').show()"
   ]
  },
  {
   "cell_type": "code",
   "execution_count": 47,
   "metadata": {},
   "outputs": [
    {
     "name": "stdout",
     "output_type": "stream",
     "text": [
      "Train Data Accuracy = 0.9834710743801652\n",
      "Train Data Test Error = 0.016528925619834767\n"
     ]
    }
   ],
   "source": [
    "from pyspark.ml.evaluation import MulticlassClassificationEvaluator\n",
    "\n",
    "evaluator = MulticlassClassificationEvaluator(labelCol=\"labelIndex\", predictionCol=\"prediction\")\n",
    "accuracy_train = evaluator.evaluate(pred_train_rfc)\n",
    "print(\"Train Data Accuracy = %s\" % (accuracy_train))\n",
    "print(\"Train Data Test Error = %s\" % (1.0 - accuracy_train))"
   ]
  },
  {
   "cell_type": "code",
   "execution_count": 49,
   "metadata": {},
   "outputs": [
    {
     "name": "stdout",
     "output_type": "stream",
     "text": [
      "Test Data Accuracy = 0.9310344827586207\n",
      "Test Data Test Error = 0.06896551724137934\n"
     ]
    }
   ],
   "source": [
    "from pyspark.ml.evaluation import MulticlassClassificationEvaluator\n",
    "\n",
    "evaluator = MulticlassClassificationEvaluator(labelCol=\"labelIndex\", predictionCol=\"prediction\")\n",
    "accuracy_test = evaluator.evaluate(pred_test_rfc)\n",
    "print(\"Test Data Accuracy = %s\" % (accuracy_test))\n",
    "print(\"Test Data Test Error = %s\" % (1.0 - accuracy_test))"
   ]
  },
  {
   "cell_type": "code",
   "execution_count": 50,
   "metadata": {},
   "outputs": [],
   "source": [
    "from pyspark.ml.classification import DecisionTreeClassifier"
   ]
  },
  {
   "cell_type": "code",
   "execution_count": 51,
   "metadata": {},
   "outputs": [],
   "source": [
    "dtc = DecisionTreeClassifier(featuresCol = 'features',labelCol = 'labelIndex')\n",
    "\n",
    "\n",
    "dtc_model = dtc.fit(train)"
   ]
  },
  {
   "cell_type": "code",
   "execution_count": 52,
   "metadata": {},
   "outputs": [],
   "source": [
    "pred_train_dtc = dtc_model.transform(train)"
   ]
  },
  {
   "cell_type": "code",
   "execution_count": 53,
   "metadata": {},
   "outputs": [],
   "source": [
    "pred_test_dtc = dtc_model.transform(test)"
   ]
  },
  {
   "cell_type": "code",
   "execution_count": 54,
   "metadata": {},
   "outputs": [
    {
     "name": "stdout",
     "output_type": "stream",
     "text": [
      "+-----------------+----------+----------+\n",
      "|         features|labelIndex|prediction|\n",
      "+-----------------+----------+----------+\n",
      "|[4.3,3.0,1.1,0.1]|       2.0|       2.0|\n",
      "|[4.4,3.0,1.3,0.2]|       2.0|       2.0|\n",
      "|[4.4,3.2,1.3,0.2]|       2.0|       2.0|\n",
      "|[4.6,3.1,1.5,0.2]|       2.0|       2.0|\n",
      "|[4.6,3.2,1.4,0.2]|       2.0|       2.0|\n",
      "|[4.6,3.4,1.4,0.3]|       2.0|       2.0|\n",
      "|[4.6,3.6,1.0,0.2]|       2.0|       2.0|\n",
      "|[4.7,3.2,1.3,0.2]|       2.0|       2.0|\n",
      "|[4.7,3.2,1.6,0.2]|       2.0|       2.0|\n",
      "|[4.8,3.0,1.4,0.1]|       2.0|       2.0|\n",
      "|[4.8,3.0,1.4,0.3]|       2.0|       2.0|\n",
      "|[4.8,3.1,1.6,0.2]|       2.0|       2.0|\n",
      "|[4.8,3.4,1.6,0.2]|       2.0|       2.0|\n",
      "|[4.8,3.4,1.9,0.2]|       2.0|       2.0|\n",
      "|[4.9,2.4,3.3,1.0]|       0.0|       0.0|\n",
      "|[4.9,3.0,1.4,0.2]|       2.0|       2.0|\n",
      "|[4.9,3.1,1.5,0.1]|       2.0|       2.0|\n",
      "|[4.9,3.1,1.5,0.2]|       2.0|       2.0|\n",
      "|[4.9,3.6,1.4,0.1]|       2.0|       2.0|\n",
      "|[5.0,2.0,3.5,1.0]|       0.0|       0.0|\n",
      "+-----------------+----------+----------+\n",
      "only showing top 20 rows\n",
      "\n"
     ]
    }
   ],
   "source": [
    "pred_train_dtc.select('features','labelIndex','prediction').show()"
   ]
  },
  {
   "cell_type": "code",
   "execution_count": 55,
   "metadata": {},
   "outputs": [
    {
     "name": "stdout",
     "output_type": "stream",
     "text": [
      "+-----------------+----------+----------+\n",
      "|         features|labelIndex|prediction|\n",
      "+-----------------+----------+----------+\n",
      "|[4.4,2.9,1.4,0.2]|       2.0|       2.0|\n",
      "|[4.5,2.3,1.3,0.3]|       2.0|       2.0|\n",
      "|[4.9,2.5,4.5,1.7]|       1.0|       0.0|\n",
      "|[5.0,3.0,1.6,0.2]|       2.0|       2.0|\n",
      "|[5.0,3.5,1.6,0.6]|       2.0|       2.0|\n",
      "|[5.1,2.5,3.0,1.1]|       0.0|       0.0|\n",
      "|[5.3,3.7,1.5,0.2]|       2.0|       2.0|\n",
      "|[5.6,2.7,4.2,1.3]|       0.0|       0.0|\n",
      "|[5.8,2.7,4.1,1.0]|       0.0|       0.0|\n",
      "|[5.8,2.7,5.1,1.9]|       1.0|       1.0|\n",
      "|[5.8,2.8,5.1,2.4]|       1.0|       1.0|\n",
      "|[5.8,4.0,1.2,0.2]|       2.0|       2.0|\n",
      "|[6.1,2.8,4.7,1.2]|       0.0|       0.0|\n",
      "|[6.1,3.0,4.9,1.8]|       1.0|       1.0|\n",
      "|[6.2,2.2,4.5,1.5]|       0.0|       0.0|\n",
      "|[6.3,2.3,4.4,1.3]|       0.0|       0.0|\n",
      "|[6.3,2.5,4.9,1.5]|       0.0|       1.0|\n",
      "|[6.3,3.3,6.0,2.5]|       1.0|       1.0|\n",
      "|[6.4,2.7,5.3,1.9]|       1.0|       1.0|\n",
      "|[6.4,3.2,5.3,2.3]|       1.0|       1.0|\n",
      "+-----------------+----------+----------+\n",
      "only showing top 20 rows\n",
      "\n"
     ]
    }
   ],
   "source": [
    "pred_test_dtc.select('features','labelIndex','prediction').show()"
   ]
  },
  {
   "cell_type": "code",
   "execution_count": 56,
   "metadata": {},
   "outputs": [
    {
     "name": "stdout",
     "output_type": "stream",
     "text": [
      "Train Data Accuracy = 0.9917355371900826\n",
      "Train Data Test Error = 0.008264462809917439\n"
     ]
    }
   ],
   "source": [
    "evaluator = MulticlassClassificationEvaluator(labelCol=\"labelIndex\", predictionCol=\"prediction\")\n",
    "accuracy_train_dtc = evaluator.evaluate(pred_train_dtc)\n",
    "print(\"Train Data Accuracy = %s\" % (accuracy_train_dtc))\n",
    "print(\"Train Data Test Error = %s\" % (1.0 - accuracy_train_dtc))"
   ]
  },
  {
   "cell_type": "code",
   "execution_count": 57,
   "metadata": {},
   "outputs": [
    {
     "name": "stdout",
     "output_type": "stream",
     "text": [
      "Train Data Accuracy = 0.9310344827586207\n",
      "Train Data Test Error = 0.06896551724137934\n"
     ]
    }
   ],
   "source": [
    "evaluator = MulticlassClassificationEvaluator(labelCol=\"labelIndex\", predictionCol=\"prediction\")\n",
    "accuracy_test_dtc = evaluator.evaluate(pred_test_dtc)\n",
    "print(\"Train Data Accuracy = %s\" % (accuracy_test_dtc))\n",
    "print(\"Train Data Test Error = %s\" % (1.0 - accuracy_test_dtc))"
   ]
  },
  {
   "cell_type": "code",
   "execution_count": null,
   "metadata": {},
   "outputs": [],
   "source": []
  }
 ],
 "metadata": {
  "kernelspec": {
   "display_name": "Python 3",
   "language": "python",
   "name": "python3"
  },
  "language_info": {
   "codemirror_mode": {
    "name": "ipython",
    "version": 3
   },
   "file_extension": ".py",
   "mimetype": "text/x-python",
   "name": "python",
   "nbconvert_exporter": "python",
   "pygments_lexer": "ipython3",
   "version": "3.7.6"
  }
 },
 "nbformat": 4,
 "nbformat_minor": 4
}
